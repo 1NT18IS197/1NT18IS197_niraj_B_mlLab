{
 "cells": [
  {
   "cell_type": "code",
   "execution_count": 1,
   "metadata": {},
   "outputs": [],
   "source": [
    "l=[115.3,195.5,120.5,110.2,90.4,105.6,110.9,116.3,122.3,125.4]"
   ]
  },
  {
   "cell_type": "code",
   "execution_count": 3,
   "metadata": {},
   "outputs": [
    {
     "name": "stdout",
     "output_type": "stream",
     "text": [
      "Mean:121.24000000000001\n"
     ]
    }
   ],
   "source": [
    "sum = 0\n",
    "n = len(l) \n",
    "for num in l:\n",
    "    sum+=num\n",
    "mean = sum/n\n",
    "print(\"Mean:\"+str(mean))"
   ]
  },
  {
   "cell_type": "code",
   "execution_count": 5,
   "metadata": {},
   "outputs": [
    {
     "name": "stdout",
     "output_type": "stream",
     "text": [
      "Median:115.8\n"
     ]
    }
   ],
   "source": [
    "l.sort()\n",
    "\n",
    "n=len(l)\n",
    "if(n%2==0):\n",
    "    m1=l[n//2]\n",
    "    m2=l[(n//2)-1]\n",
    "    res=(m1+m2)/2\n",
    "else:\n",
    "    res=l[n//2] \n",
    "print(\"Median:\"+str(res))"
   ]
  },
  {
   "cell_type": "code",
   "execution_count": 29,
   "metadata": {},
   "outputs": [
    {
     "name": "stdout",
     "output_type": "stream",
     "text": [
      "Mode :{195.5, 122.3, 105.6, 110.9, 110.2, 115.3, 116.3, 120.5, 90.4, 125.4}\n"
     ]
    }
   ],
   "source": [
    "l1=[]\n",
    "i=0\n",
    "while i < len(l):\n",
    "    l1.append(l.count(l[i]))\n",
    "    i+=1\n",
    "    \n",
    "\n",
    "d = dict(zip(l,l1))\n",
    "d1={k for (k,v) in d.items() if v==max(l1)}\n",
    "print(\"Mode :\"+str(d1))"
   ]
  },
  {
   "cell_type": "code",
   "execution_count": 14,
   "metadata": {},
   "outputs": [
    {
     "name": "stdout",
     "output_type": "stream",
     "text": [
      "variance is: 779.7471111111112\n"
     ]
    }
   ],
   "source": [
    "sumv = 0\n",
    "for number in l:\n",
    "    sumv+=(number-mean)**2\n",
    "variance = sumv/(n-1)\n",
    "print(\"variance is: \"+str(variance))"
   ]
  },
  {
   "cell_type": "code",
   "execution_count": 35,
   "metadata": {},
   "outputs": [
    {
     "name": "stdout",
     "output_type": "stream",
     "text": [
      "Standard deviation : 27.923952283140565\n"
     ]
    }
   ],
   "source": [
    "stdv=variance**(1/2)\n",
    "print(\"Standard deviation : \"+str(stdv))"
   ]
  },
  {
   "cell_type": "code",
   "execution_count": 36,
   "metadata": {},
   "outputs": [
    {
     "name": "stdout",
     "output_type": "stream",
     "text": [
      "[0.0, 0.1446, 0.1884, 0.1951, 0.2369, 0.2464, 0.2864, 0.3035, 0.333, 1.0]\n",
      "Normalized\n",
      "{90.4: 0.0, 105.6: 0.1446, 110.2: 0.1884, 110.9: 0.1951, 115.3: 0.2369, 116.3: 0.2464, 120.5: 0.2864, 122.3: 0.3035, 125.4: 0.333, 195.5: 1.0}\n"
     ]
    }
   ],
   "source": [
    "maxm = max(l)\n",
    "minm = min(l)\n",
    "\n",
    "normalised = []\n",
    "for num in l:\n",
    "    x = (num - minm)/(maxm-minm)\n",
    "    normalised.append(float(\"{:.4f}\".format(x)))\n",
    "\n",
    "print(normalised)\n",
    "print(\"Normalized\")\n",
    "d3 = dict(zip(l,normalised))\n",
    "print(d3)"
   ]
  },
  {
   "cell_type": "code",
   "execution_count": 37,
   "metadata": {},
   "outputs": [
    {
     "name": "stdout",
     "output_type": "stream",
     "text": [
      "[-1.1044281872168948, -0.5600926345029912, -0.39535950670799364, -0.37029142204353743, -0.2127206041526708, -0.17690905463201922, -0.026500546645282494, 0.03796024249189024, 0.14897604600591044, 2.659365667403586]\n",
      "standardization:\n",
      "{90.4: -1.1044281872168948, 105.6: -0.5600926345029912, 110.2: -0.39535950670799364, 110.9: -0.37029142204353743, 115.3: -0.2127206041526708, 116.3: -0.17690905463201922, 120.5: -0.026500546645282494, 122.3: 0.03796024249189024, 125.4: 0.14897604600591044, 195.5: 2.659365667403586}\n"
     ]
    }
   ],
   "source": [
    "standard=[]\n",
    "for a in l:\n",
    "    std1=(a-mean)/stdv\n",
    "    standard.append(std1)\n",
    "d3=dict(zip(l,standard))\n",
    "print(standard)\n",
    "print(\"standardization:\")\n",
    "print(d3)"
   ]
  },
  {
   "cell_type": "code",
   "execution_count": null,
   "metadata": {},
   "outputs": [],
   "source": []
  }
 ],
 "metadata": {
  "kernelspec": {
   "display_name": "Python 3",
   "language": "python",
   "name": "python3"
  },
  "language_info": {
   "codemirror_mode": {
    "name": "ipython",
    "version": 3
   },
   "file_extension": ".py",
   "mimetype": "text/x-python",
   "name": "python",
   "nbconvert_exporter": "python",
   "pygments_lexer": "ipython3",
   "version": "3.8.5"
  }
 },
 "nbformat": 4,
 "nbformat_minor": 4
}
