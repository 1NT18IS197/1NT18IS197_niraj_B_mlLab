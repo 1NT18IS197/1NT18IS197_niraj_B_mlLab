{
 "cells": [
  {
   "cell_type": "markdown",
   "metadata": {},
   "source": [
    "# Revision"
   ]
  },
  {
   "cell_type": "code",
   "execution_count": 1,
   "metadata": {},
   "outputs": [
    {
     "data": {
      "text/plain": [
       "[5, 7, 9]"
      ]
     },
     "execution_count": 1,
     "metadata": {},
     "output_type": "execute_result"
    }
   ],
   "source": [
    "# Add elements of 2 lists\n",
    "ls1 = [1, 2, 3]\n",
    "ls2 = [4, 5, 6]\n",
    "ls3 = []\n",
    "for i in range(len(ls1)):\n",
    "    ls3.append(ls1[i] + ls2[i])\n",
    "    \n",
    "ls3"
   ]
  },
  {
   "cell_type": "code",
   "execution_count": 2,
   "metadata": {},
   "outputs": [
    {
     "name": "stdout",
     "output_type": "stream",
     "text": [
      "Enter the operation: +\n",
      "Enter 1st operand: 2\n",
      "Enter 2nd operand: 5\n",
      "7.0\n"
     ]
    }
   ],
   "source": [
    "# Simple Calculator\n",
    "operation = input('Enter the operation: ')\n",
    "op1 = float(input('Enter 1st operand: '))\n",
    "op2 = float(input('Enter 2nd operand: '))\n",
    "\n",
    "if operation == \"+\":\n",
    "    print(op1 + op2)\n",
    "elif operation == \"-\":\n",
    "    print(op1 - op2)\n",
    "elif operation == \"*\":\n",
    "    print(op1 * op)\n",
    "elif operation == \"/\":\n",
    "    if op2 == 0:\n",
    "        print('Cannot Divide by Zero')\n",
    "    else:\n",
    "        print(op1 / op2)\n",
    "else:\n",
    "    print('Invalid Operation')"
   ]
  },
  {
   "cell_type": "code",
   "execution_count": 3,
   "metadata": {},
   "outputs": [
    {
     "name": "stdout",
     "output_type": "stream",
     "text": [
      "[1, 2, 3, 4, 5, 7, 8, 9]\n"
     ]
    }
   ],
   "source": [
    "# Bubble Sort\n",
    "list = [4,8,1,5,2,7,9,3]\n",
    "\n",
    "def bsort(list):\n",
    "    for i in range(0, len(list)):\n",
    "        for j in range(i, len(list)):\n",
    "            if list[i]>list[j]:\n",
    "                temp = list[i]\n",
    "                list[i] = list[j]\n",
    "                list[j] = temp\n",
    "    return list\n",
    "\n",
    "print(bsort(list))"
   ]
  },
  {
   "cell_type": "markdown",
   "metadata": {},
   "source": [
    "## Program 1"
   ]
  },
  {
   "cell_type": "code",
   "execution_count": 4,
   "metadata": {},
   "outputs": [
    {
     "name": "stdout",
     "output_type": "stream",
     "text": [
      "Mean: 121.23999999999998\n",
      "Median: 115.8\n",
      "Mode: 90.4\n"
     ]
    }
   ],
   "source": [
    "# Mean, Median, Mode\n",
    "data = [115.3, 195.5, 120.5, 110.2, 90.4, 105.6, 110.9, 116.3, 122.3, 125.4]\n",
    "mean = 0.0\n",
    "median = 0\n",
    "mode = 0\n",
    "\n",
    "sort_data = bsort(data)\n",
    "long = len(data)\n",
    "\n",
    "for i in data:\n",
    "    mean = sum(data) / long\n",
    "    \n",
    "if long % 2 == 0:\n",
    "    median = (data[(long//2) - 1] + data[long//2]) / 2\n",
    "else:\n",
    "    median = data[long//2]\n",
    "\n",
    "mode_dict = {}\n",
    "\n",
    "for i in data:\n",
    "    if not i in mode_dict:\n",
    "        mode_dict[i] = 1\n",
    "    else:\n",
    "        mode_dict[i] += 1 \n",
    "\n",
    "maxi = 0\n",
    "\n",
    "for i in mode_dict:\n",
    "    if mode_dict[i] > maxi:\n",
    "        maxi = mode_dict[i]\n",
    "        mode = i\n",
    "        \n",
    "print('Mean:', mean)\n",
    "print('Median:', median)\n",
    "print('Mode:', mode)"
   ]
  },
  {
   "cell_type": "code",
   "execution_count": 5,
   "metadata": {},
   "outputs": [
    {
     "name": "stdout",
     "output_type": "stream",
     "text": [
      "Variance: 701.7724\n",
      "Standard Deviation: 26.490987146574962\n"
     ]
    }
   ],
   "source": [
    "# Standard Deviation\n",
    "temp = 0\n",
    "\n",
    "for i in range(0, long):\n",
    "    temp = temp + ((data[i] - mean) ** 2)\n",
    "\n",
    "variance = temp / long\n",
    "sd = (variance) ** (1/2)\n",
    "\n",
    "print('Variance:', variance)\n",
    "print('Standard Deviation:', sd)"
   ]
  },
  {
   "cell_type": "code",
   "execution_count": 6,
   "metadata": {},
   "outputs": [],
   "source": [
    "# Validation\n",
    "import numpy as np\n",
    "from scipy import stats"
   ]
  },
  {
   "cell_type": "code",
   "execution_count": 7,
   "metadata": {},
   "outputs": [
    {
     "name": "stdout",
     "output_type": "stream",
     "text": [
      "121.24000000000001\n",
      "115.8\n",
      "90.4 --> 1 times\n",
      "701.7724000000001\n",
      "26.490987146574966\n"
     ]
    }
   ],
   "source": [
    "print(np.mean(data))\n",
    "print(np.median(data))\n",
    "print(stats.mode(data).mode[0],'-->',stats.mode(data).count[0], 'times')\n",
    "print(np.var(data))\n",
    "print(np.std(data))"
   ]
  },
  {
   "cell_type": "code",
   "execution_count": 8,
   "metadata": {},
   "outputs": [
    {
     "name": "stdout",
     "output_type": "stream",
     "text": [
      "Min Max Normalisation:\n",
      " [0.0, 0.14462416745956222, 0.18839200761179828, 0.1950523311132255, 0.23691722169362506, 0.24643196955280677, 0.2863939105613701, 0.3035204567078972, 0.3330161750713606, 1.0]\n"
     ]
    }
   ],
   "source": [
    "# Min-Max Normalisation\n",
    "minimum = data[0]\n",
    "maximum = data[0]\n",
    "\n",
    "for i in range(0, long):\n",
    "    if data[i] > maximum:\n",
    "        maximum = data[i]\n",
    "    if data[i] < minimum:\n",
    "        minimum = data[i]\n",
    "\n",
    "min_max_normal = []\n",
    "for i in range(0, long):\n",
    "    min_max_normal.append((data[i] - minimum) / (maximum - minimum))\n",
    "\n",
    "print('Min Max Normalisation:\\n', min_max_normal)"
   ]
  },
  {
   "cell_type": "code",
   "execution_count": 9,
   "metadata": {},
   "outputs": [
    {
     "name": "stdout",
     "output_type": "stream",
     "text": [
      "Standardisation:\n",
      " [-1.164169527898748, -0.5903894752378864, -0.4167455119326252, -0.39032143056008545, -0.22422720478983624, -0.18647851711477953, -0.027934028879541235, 0.04001360893556073, 0.15703454072823686, 2.803217546749712]\n"
     ]
    }
   ],
   "source": [
    "# Standardisation\n",
    "standard = []\n",
    "for i in range(0, long):\n",
    "    standard.append((data[i] - mean) / sd)\n",
    "    \n",
    "print('Standardisation:\\n', standard)"
   ]
  },
  {
   "cell_type": "code",
   "execution_count": null,
   "metadata": {},
   "outputs": [],
   "source": []
  }
 ],
 "metadata": {
  "kernelspec": {
   "display_name": "Python 3",
   "language": "python",
   "name": "python3"
  },
  "language_info": {
   "codemirror_mode": {
    "name": "ipython",
    "version": 3
   },
   "file_extension": ".py",
   "mimetype": "text/x-python",
   "name": "python",
   "nbconvert_exporter": "python",
   "pygments_lexer": "ipython3",
   "version": "3.8.10"
  }
 },
 "nbformat": 4,
 "nbformat_minor": 4
}
