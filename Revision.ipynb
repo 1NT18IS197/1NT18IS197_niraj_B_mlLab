{
 "cells": [
  {
   "cell_type": "markdown",
   "metadata": {},
   "source": [
    "# Revision"
   ]
  },
  {
   "cell_type": "code",
   "execution_count": 1,
   "metadata": {},
   "outputs": [
    {
     "data": {
      "text/plain": [
       "[5, 7, 9]"
      ]
     },
     "execution_count": 1,
     "metadata": {},
     "output_type": "execute_result"
    }
   ],
   "source": [
    "# Add elements of 2 lists\n",
    "ls1 = [1, 2, 3]\n",
    "ls2 = [4, 5, 6]\n",
    "ls3 = []\n",
    "for i in range(len(ls1)):\n",
    "    ls3.append(ls1[i] + ls2[i])\n",
    "    \n",
    "ls3"
   ]
  },
  {
   "cell_type": "code",
   "execution_count": 2,
   "metadata": {},
   "outputs": [
    {
     "name": "stdout",
     "output_type": "stream",
     "text": [
      "Enter the operation: +\n",
      "Enter 1st operand: 2\n",
      "Enter 2nd operand: 5\n",
      "7.0\n"
     ]
    }
   ],
   "source": [
    "# Simple Calculator\n",
    "operation = input('Enter the operation: ')\n",
    "op1 = float(input('Enter 1st operand: '))\n",
    "op2 = float(input('Enter 2nd operand: '))\n",
    "\n",
    "if operation == \"+\":\n",
    "    print(op1 + op2)\n",
    "elif operation == \"-\":\n",
    "    print(op1 - op2)\n",
    "elif operation == \"*\":\n",
    "    print(op1 * op)\n",
    "elif operation == \"/\":\n",
    "    if op2 == 0:\n",
    "        print('Cannot Divide by Zero')\n",
    "    else:\n",
    "        print(op1 / op2)\n",
    "else:\n",
    "    print('Invalid Operation')"
   ]
  },
  {
   "cell_type": "code",
   "execution_count": 3,
   "metadata": {},
   "outputs": [
    {
     "name": "stdout",
     "output_type": "stream",
     "text": [
      "[1, 2, 3, 4, 5, 7, 8, 9]\n"
     ]
    }
   ],
   "source": [
    "# Bubble Sort\n",
    "list = [4,8,1,5,2,7,9,3]\n",
    "\n",
    "def bsort(list):\n",
    "    for i in range(0, len(list)):\n",
    "        for j in range(i, len(list)):\n",
    "            if list[i]>list[j]:\n",
    "                temp = list[i]\n",
    "                list[i] = list[j]\n",
    "                list[j] = temp\n",
    "    return list\n",
    "\n",
    "print(bsort(list))"
   ]
  },
  {
   "cell_type": "code",
   "execution_count": null,
   "metadata": {},
   "outputs": [],
   "source": []
  }
 ],
 "metadata": {
  "kernelspec": {
   "display_name": "Python 3",
   "language": "python",
   "name": "python3"
  },
  "language_info": {
   "codemirror_mode": {
    "name": "ipython",
    "version": 3
   },
   "file_extension": ".py",
   "mimetype": "text/x-python",
   "name": "python",
   "nbconvert_exporter": "python",
   "pygments_lexer": "ipython3",
   "version": "3.8.10"
  }
 },
 "nbformat": 4,
 "nbformat_minor": 4
}
